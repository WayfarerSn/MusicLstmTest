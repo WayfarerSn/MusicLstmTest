{
 "cells": [
  {
   "cell_type": "code",
   "execution_count": 55,
   "metadata": {},
   "outputs": [],
   "source": [
    "import glob \n",
    "import numpy as np\n",
    "import pickle\n",
    "import torch\n",
    "import torch.nn as nn\n",
    "import torch.autograd as autograd\n",
    "import torch.nn.functional as F\n",
    "import torch.optim as optim\n",
    "from music21 import converter, instrument, note, chord\n",
    "import time\n",
    "import pickle\n"
   ]
  },
  {
   "cell_type": "code",
   "execution_count": 56,
   "metadata": {},
   "outputs": [],
   "source": [
    "def get_notes():\n",
    "    \n",
    "    notes = []\n",
    "    \n",
    "    \"\"\" Get all the notes and chords from the midi files in the ./midi_songs directory \"\"\"\n",
    "    for file in glob.glob(\"midi_songs/*.mid\"):\n",
    "        midi = converter.parse(file)\n",
    "\n",
    "        #print(\"Parsing %s\" % file)\n",
    "\n",
    "        notes_to_parse = None\n",
    "\n",
    "        try: # file has instrument parts\n",
    "            s2 = instrument.partitionByInstrument(midi)\n",
    "            notes_to_parse = s2.parts[0].recurse() \n",
    "        except: # file has notes in a flat structure\n",
    "            notes_to_parse = midi.flat.notes\n",
    "\n",
    "        for element in notes_to_parse:\n",
    "            if isinstance(element, note.Note):\n",
    "                notes.append(str(element.pitch))\n",
    "            elif isinstance(element, chord.Chord):\n",
    "                notes.append('.'.join(str(n) for n in element.normalOrder))\n",
    "\n",
    "    with open('data/notes', 'wb') as filepath:\n",
    "        pickle.dump(notes, filepath)\n",
    "        \n",
    "    return notes\n"
   ]
  },
  {
   "cell_type": "code",
   "execution_count": 57,
   "metadata": {},
   "outputs": [],
   "source": [
    "notes = get_notes() \n",
    "\n",
    "pitchnames = sorted(set(item for item in notes))\n",
    "\n",
    "note_to_int = dict((note, number) for number, note in enumerate(pitchnames))\n",
    "\n",
    "vocab_size = len(note_to_int)\n",
    "\n",
    "seq_len = 100\n",
    "\n",
    "    \n",
    "in_seq_0 = []\n",
    "tar_seq_0 = []\n",
    "\n",
    "# create input sequences and the corresponding outputs\n",
    "for i in range(0, len(notes) - seq_len, 1):\n",
    "    sequence_in = notes[i:i + seq_len]\n",
    "    sequence_out = notes[i + seq_len]\n",
    "    \n",
    "    for j in range(0, seq_len, 1):\n",
    "        in_seq_0.append(note_to_int[sequence_in[j]])\n",
    "        \n",
    "    tar_seq_0.append(note_to_int[sequence_out])\n",
    "# save the input- and outputsseq to the file \n",
    "with open('notes_in', 'wb') as fp:\n",
    "    pickle.dump(in_seq_0, fp)\n",
    "    \n",
    "with open('notes_tar', 'wb') as fp:\n",
    "    pickle.dump(tar_seq_0, fp)\n",
    "    "
   ]
  },
  {
   "cell_type": "code",
   "execution_count": 36,
   "metadata": {},
   "outputs": [],
   "source": [
    "class LSTM(nn.Module):\n",
    "    \n",
    "    def __init__(self, input_size, embedding_dim, batch_size, hidden_dim, output_size):\n",
    "        super(LSTM, self).__init__()\n",
    "        \n",
    "        self.batch_size = batch_size\n",
    "        \n",
    "        self.hidden_dim = hidden_dim\n",
    "        \n",
    "        self.embeddings = nn.Embedding(input_size, embedding_dim)\n",
    "        \n",
    "        self.lstm = nn.LSTM(embedding_dim, hidden_dim)\n",
    "        \n",
    "        self.linear = nn.Linear(hidden_dim, output_size)\n",
    "        \n",
    "\n",
    "    def init_hidden(self):\n",
    "\n",
    "        return (torch.zeros(1, self.batch_size, self.hidden_dim),\n",
    "                torch.zeros(1, self.batch_size, self.hidden_dim))\n",
    "    \n",
    "\n",
    "    def forward(self, inputs):\n",
    "        \n",
    "        hidden = self.init_hidden()\n",
    "        \n",
    "        embeds = self.embeddings(inputs)\n",
    "        \n",
    "        lstm_out, hidden = self.lstm(embeds.view(len(net_in_tensor), 1, -1), hidden)\n",
    "        \n",
    "        prediction = self.linear(lstm_out.view(len(net_in_tensor), -1))\n",
    "        pre_scores = F.log_softmax(prediction, dim=1)\n",
    "        return pre_scores "
   ]
  },
  {
   "cell_type": "code",
   "execution_count": 61,
   "metadata": {
    "scrolled": true
   },
   "outputs": [],
   "source": [
    "input_size = vocab_size\n",
    "\n",
    "embedding_dim = 30\n",
    "batch_size = 1\n",
    "hidden_dim = 36\n",
    "learning_rate = 0.01\n",
    "\n",
    "model = LSTM(input_size, embedding_dim, batch_size, hidden_dim, vocab_size)\n",
    "\n",
    "model.zero_grad()\n",
    "model.hidden = model.init_hidden()\n",
    "\n",
    "lossfunction = nn.NLLLoss()\n",
    "optimizer = optim.Adam(model.parameters(), learning_rate)\n",
    "\n",
    "\n",
    "Epochs = 3000\n",
    "\n",
    "save_every = 100\n",
    "print_every = 50"
   ]
  },
  {
   "cell_type": "code",
   "execution_count": 63,
   "metadata": {
    "scrolled": true
   },
   "outputs": [
    {
     "name": "stdout",
     "output_type": "stream",
     "text": [
      "Epoch 0: Total Loss = 1127.7060945034027, Avg. Time/Epoch = 23.89295792579651\n",
      "Epoch 1: Total Loss = 850.0507791042328, Avg. Time/Epoch = 23.408787965774536\n"
     ]
    }
   ],
   "source": [
    "start = time.time()\n",
    "total_Loss = []\n",
    "\n",
    "for e in range(Epochs):\n",
    "    \n",
    "    total_Loss.append(0)\n",
    "    \n",
    "    with open ('notes_in', 'rb') as fp:\n",
    "        in_seq = pickle.load(fp)\n",
    "    \n",
    "    with open ('notes_tar', 'rb') as fp:\n",
    "        tar_seq = pickle.load(fp)\n",
    "    \n",
    "    \n",
    "    counter = 0\n",
    "    while len(in_seq) != 0:\n",
    "        \n",
    "        counter += 1\n",
    "        \n",
    "        if (len(in_seq) >= 100 and len(tar_seq) != 0):\n",
    "            \n",
    "            optimizer.zero_grad()\n",
    "            \n",
    "            net_in = in_seq[:100]\n",
    "            del in_seq[:100]\n",
    "            net_in_tensor= torch.tensor(net_in, dtype=torch.long)\n",
    "            net_out = model(net_in_tensor)\n",
    "            #get the last list of output array as output1\n",
    "            net_out1 = torch.narrow(net_out, 0, 99, 1)\n",
    "            target1 = torch.tensor([tar_seq.pop()], dtype=torch.long)\n",
    "            \n",
    "            if (len(in_seq) >= 100 and len(tar_seq) != 0):\n",
    "                optimizer.zero_grad()\n",
    "                net_in = in_seq[:100]\n",
    "                del in_seq[:100]\n",
    "                net_in_tensor= torch.tensor(net_in, dtype=torch.long)\n",
    "                net_out = model(net_in_tensor)\n",
    "                #get the last list of output array as output2\n",
    "                net_out2 = torch.narrow(net_out, 0, 99, 1)\n",
    "                target2 = torch.tensor([tar_seq.pop()], dtype=torch.long)\n",
    "                #change the dimention of the inputs of lossfunction from 1 to 2\n",
    "                output_seq = torch.cat((net_out1, net_out2), 0)\n",
    "                target_seq = torch.cat((target1, target2), 0)\n",
    "                loss = lossfunction(output_seq, target_seq)\n",
    "            \n",
    "                loss.backward()\n",
    "                optimizer.step()\n",
    "\n",
    "                total_Loss[-1] += loss.item() \n",
    "            else:\n",
    "                break         \n",
    "        else:\n",
    "            break\n",
    "    #save the weights of the Model        \n",
    "    if e % save_every == 0:\n",
    "        torch.save(model.state_dict(), f'./net_{e}.pth')\n",
    "    #print the Loss and Time of the training \n",
    "    if e % print_every == 0:   \n",
    "        print('Epoch {}: Total Loss = {}, Avg. Time/Epoch = {}'\n",
    "                .format(e, total_Loss[-1], (time.time() - start) / print_every))\n",
    "        start = time.time()"
   ]
  },
  {
   "cell_type": "code",
   "execution_count": 65,
   "metadata": {},
   "outputs": [
    {
     "data": {
      "text/plain": [
       "[<matplotlib.lines.Line2D at 0x116605dd8>]"
      ]
     },
     "execution_count": 65,
     "metadata": {},
     "output_type": "execute_result"
    },
    {
     "data": {
      "image/png": "[encoded data removed]",
      "text/plain": [
       "<Figure size 432x288 with 1 Axes>"
      ]
     },
     "metadata": {
      "image/png": {
       "height": 250,
       "width": 383
      }
     },
     "output_type": "display_data"
    }
   ],
   "source": [
    "import matplotlib.pyplot as plt\n",
    "import matplotlib.ticker as ticker\n",
    "\n",
    "plt.figure()\n",
    "plt.plot(total_Loss)"
   ]
  }
 ],
 "metadata": {
  "kernelspec": {
   "display_name": "Python 3",
   "language": "python",
   "name": "python3"
  },
  "language_info": {
   "codemirror_mode": {
    "name": "ipython",
    "version": 3
   },
   "file_extension": ".py",
   "mimetype": "text/x-python",
   "name": "python",
   "nbconvert_exporter": "python",
   "pygments_lexer": "ipython3",
   "version": "3.6.1"
  }
 },
 "nbformat": 4,
 "nbformat_minor": 2
}
